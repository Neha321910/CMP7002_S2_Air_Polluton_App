{
 "cells": [
  {
   "cell_type": "markdown",
   "id": "af1b1c05",
   "metadata": {},
   "source": [
    "📌 1. Import Libraries"
   ]
  },
  {
   "cell_type": "code",
   "execution_count": 1,
   "id": "860866e1",
   "metadata": {},
   "outputs": [
    {
     "ename": "ModuleNotFoundError",
     "evalue": "No module named 'pandas'",
     "output_type": "error",
     "traceback": [
      "\u001b[31m---------------------------------------------------------------------------\u001b[39m",
      "\u001b[31mModuleNotFoundError\u001b[39m                       Traceback (most recent call last)",
      "\u001b[36mCell\u001b[39m\u001b[36m \u001b[39m\u001b[32mIn[1]\u001b[39m\u001b[32m, line 1\u001b[39m\n\u001b[32m----> \u001b[39m\u001b[32m1\u001b[39m \u001b[38;5;28;01mimport\u001b[39;00m\u001b[38;5;250m \u001b[39m\u001b[34;01mpandas\u001b[39;00m\u001b[38;5;250m \u001b[39m\u001b[38;5;28;01mas\u001b[39;00m\u001b[38;5;250m \u001b[39m\u001b[34;01mpd\u001b[39;00m\n\u001b[32m      2\u001b[39m \u001b[38;5;28;01mimport\u001b[39;00m\u001b[38;5;250m \u001b[39m\u001b[34;01mnumpy\u001b[39;00m\u001b[38;5;250m \u001b[39m\u001b[38;5;28;01mas\u001b[39;00m\u001b[38;5;250m \u001b[39m\u001b[34;01mnp\u001b[39;00m\n\u001b[32m      3\u001b[39m \u001b[38;5;28;01mimport\u001b[39;00m\u001b[38;5;250m \u001b[39m\u001b[34;01mmatplotlib\u001b[39;00m\u001b[34;01m.\u001b[39;00m\u001b[34;01mpyplot\u001b[39;00m\u001b[38;5;250m \u001b[39m\u001b[38;5;28;01mas\u001b[39;00m\u001b[38;5;250m \u001b[39m\u001b[34;01mplt\u001b[39;00m\n",
      "\u001b[31mModuleNotFoundError\u001b[39m: No module named 'pandas'"
     ]
    }
   ],
   "source": [
    "import pandas as pd\n",
    "import numpy as np\n",
    "import matplotlib.pyplot as plt\n",
    "import seaborn as sns\n",
    "\n",
    "from sklearn.model_selection import train_test_split\n",
    "from sklearn.linear_model import LinearRegression\n",
    "from sklearn.preprocessing import StandardScaler\n",
    "from sklearn.metrics import mean_squared_error, r2_score\n"
   ]
  },
  {
   "cell_type": "markdown",
   "id": "15bc962e",
   "metadata": {},
   "source": [
    "2. Load & Merge Datasets (Task 1)"
   ]
  },
  {
   "cell_type": "code",
   "execution_count": null,
   "id": "b474a7e5",
   "metadata": {},
   "outputs": [],
   "source": [
    "paths = {\n",
    "    \"Dongsi\": \"data/PRSA_Data_Dongsi_20130301-20170228.csv\",\n",
    "    \"Huairou\": \"data/PRSA_Data_Huairou_20130301-20170228.csv\",\n",
    "    \"Changping\": \"data/PRSA_Data_Changping_20130301-20170228.csv\",\n",
    "    \"Guanyuan\": \"data/PRSA_Data_Guanyuan_20130301-20170228.csv\"\n",
    "}\n",
    "\n",
    "dataframes = []\n",
    "for station, path in paths.items():\n",
    "    df = pd.read_csv(path)\n",
    "    df[\"station\"] = station\n",
    "    dataframes.append(df)\n",
    "\n",
    "df = pd.concat(dataframes, ignore_index=True)\n",
    "df.head()\n"
   ]
  },
  {
   "cell_type": "markdown",
   "id": "380d7453",
   "metadata": {},
   "source": [
    "3. Basic Data Understanding (Task 2a)"
   ]
  },
  {
   "cell_type": "code",
   "execution_count": null,
   "id": "5bc6faab",
   "metadata": {},
   "outputs": [],
   "source": [
    "print(\"Shape:\", df.shape)\n",
    "print(\"Missing values:\\n\", df.isnull().sum())\n",
    "print(\"Data types:\\n\", df.dtypes)\n"
   ]
  },
  {
   "cell_type": "markdown",
   "id": "2a4a497d",
   "metadata": {},
   "source": [
    "4. Data Preprocessing (Task 2b)"
   ]
  },
  {
   "cell_type": "code",
   "execution_count": null,
   "id": "7315bd7f",
   "metadata": {},
   "outputs": [],
   "source": [
    "# Drop rows with missing critical values\n",
    "df.dropna(subset=[\"PM2.5\", \"PM10\", \"SO2\", \"NO2\", \"CO\", \"O3\", \"TEMP\", \"PRES\", \"DEWP\", \"RAIN\", \"WSPM\"], inplace=True)\n",
    "\n",
    "# Create datetime index\n",
    "df[\"datetime\"] = pd.to_datetime(df[['year', 'month', 'day', 'hour']])\n",
    "df.set_index(\"datetime\", inplace=True)\n",
    "\n",
    "# Drop unused columns\n",
    "df.drop(columns=[\"No\", \"year\", \"month\", \"day\", \"hour\", \"wd\"], inplace=True)\n"
   ]
  },
  {
   "cell_type": "markdown",
   "id": "16804fbf",
   "metadata": {},
   "source": [
    "5. Visualisation (Task 2c)"
   ]
  },
  {
   "cell_type": "code",
   "execution_count": null,
   "id": "0975d29e",
   "metadata": {},
   "outputs": [],
   "source": [
    "# Distribution plot\n",
    "sns.histplot(df['PM2.5'], bins=50, kde=True)\n",
    "plt.title(\"Distribution of PM2.5\")\n",
    "plt.show()\n",
    "\n",
    "# Correlation heatmap\n",
    "plt.figure(figsize=(12, 6))\n",
    "sns.heatmap(df.corr(), annot=True, cmap='coolwarm')\n",
    "plt.title(\"Correlation Matrix\")\n",
    "plt.show()\n"
   ]
  },
  {
   "cell_type": "markdown",
   "id": "65dd2820",
   "metadata": {},
   "source": [
    "6. Model Building (Task 3)"
   ]
  },
  {
   "cell_type": "code",
   "execution_count": null,
   "id": "d17bfc55",
   "metadata": {},
   "outputs": [],
   "source": [
    "# Feature matrix and target variable\n",
    "features = [\"PM10\", \"SO2\", \"NO2\", \"CO\", \"O3\", \"TEMP\", \"PRES\", \"DEWP\", \"RAIN\", \"WSPM\"]\n",
    "X = df[features]\n",
    "y = df[\"PM2.5\"]\n",
    "\n",
    "# Scaling\n",
    "scaler = StandardScaler()\n",
    "X_scaled = scaler.fit_transform(X)\n",
    "\n",
    "# Train/Test split\n",
    "X_train, X_test, y_train, y_test = train_test_split(X_scaled, y, test_size=0.2, random_state=42)\n",
    "\n",
    "# Linear Regression model\n",
    "model = LinearRegression()\n",
    "model.fit(X_train, y_train)\n",
    "y_pred = model.predict(X_test)\n",
    "\n",
    "# Evaluation\n",
    "print(\"R² Score:\", r2_score(y_test, y_pred))\n",
    "print(\"RMSE:\", mean_squared_error(y_test, y_pred, squared=False))\n"
   ]
  },
  {
   "cell_type": "markdown",
   "id": "a3e20829",
   "metadata": {},
   "source": [
    "7. Save Cleaned Data (For GUI)"
   ]
  },
  {
   "cell_type": "code",
   "execution_count": null,
   "id": "a26563d6",
   "metadata": {},
   "outputs": [],
   "source": [
    "df.reset_index().to_csv(\"data/cleaned_data.csv\", index=False)"
   ]
  }
 ],
 "metadata": {
  "kernelspec": {
   "display_name": ".venv",
   "language": "python",
   "name": "python3"
  },
  "language_info": {
   "codemirror_mode": {
    "name": "ipython",
    "version": 3
   },
   "file_extension": ".py",
   "mimetype": "text/x-python",
   "name": "python",
   "nbconvert_exporter": "python",
   "pygments_lexer": "ipython3",
   "version": "3.13.2"
  }
 },
 "nbformat": 4,
 "nbformat_minor": 5
}
